{
 "cells": [
  {
   "cell_type": "code",
   "execution_count": 5,
   "id": "b6ce5d84",
   "metadata": {},
   "outputs": [],
   "source": [
    "import cv2\n",
    "import numpy as np\n",
    "from skimage import transform as tf\n",
    "from scipy import signal\n",
    "from getFeatures import getFeatures\n",
    "from estimateAllTranslation import estimateAllTranslation\n",
    "from applyGeometricTransformation import applyGeometricTransformation\n",
    "import pandas as pd"
   ]
  },
  {
   "cell_type": "code",
   "execution_count": 6,
   "id": "1e1a1b7b",
   "metadata": {},
   "outputs": [
    {
     "ename": "error",
     "evalue": "OpenCV(4.0.1) C:\\ci\\opencv-suite_1573470242804\\work\\modules\\core\\src\\alloc.cpp:55: error: (-4:Insufficient memory) Failed to allocate 398131200 bytes in function 'cv::OutOfMemoryError'\n",
     "output_type": "error",
     "traceback": [
      "\u001b[1;31m---------------------------------------------------------------------------\u001b[0m",
      "\u001b[1;31merror\u001b[0m                                     Traceback (most recent call last)",
      "Cell \u001b[1;32mIn[6], line 82\u001b[0m\n\u001b[0;32m     80\u001b[0m \u001b[38;5;28;01mif\u001b[39;00m \u001b[38;5;18m__name__\u001b[39m \u001b[38;5;241m==\u001b[39m \u001b[38;5;124m\"\u001b[39m\u001b[38;5;124m__main__\u001b[39m\u001b[38;5;124m\"\u001b[39m:\n\u001b[0;32m     81\u001b[0m     cap \u001b[38;5;241m=\u001b[39m cv2\u001b[38;5;241m.\u001b[39mVideoCapture(\u001b[38;5;124m\"\u001b[39m\u001b[38;5;124mE:\u001b[39m\u001b[38;5;124m\\\u001b[39m\u001b[38;5;124mmachine_vision\u001b[39m\u001b[38;5;124m\\\u001b[39m\u001b[38;5;124mData/moving_target3.mp4\u001b[39m\u001b[38;5;124m\"\u001b[39m)\n\u001b[1;32m---> 82\u001b[0m     df \u001b[38;5;241m=\u001b[39m \u001b[43mobjectTracking\u001b[49m\u001b[43m(\u001b[49m\u001b[43mcap\u001b[49m\u001b[43m,\u001b[49m\u001b[43mdraw_bb\u001b[49m\u001b[38;5;241;43m=\u001b[39;49m\u001b[38;5;28;43;01mTrue\u001b[39;49;00m\u001b[43m,\u001b[49m\u001b[43mplay_realtime\u001b[49m\u001b[38;5;241;43m=\u001b[39;49m\u001b[38;5;28;43;01mTrue\u001b[39;49;00m\u001b[43m,\u001b[49m\u001b[43msave_to_file\u001b[49m\u001b[38;5;241;43m=\u001b[39;49m\u001b[38;5;28;43;01mTrue\u001b[39;49;00m\u001b[43m)\u001b[49m\n\u001b[0;32m     83\u001b[0m     cap\u001b[38;5;241m.\u001b[39mrelease()\n",
      "Cell \u001b[1;32mIn[6], line 14\u001b[0m, in \u001b[0;36mobjectTracking\u001b[1;34m(rawVideo, draw_bb, play_realtime, save_to_file)\u001b[0m\n\u001b[0;32m     12\u001b[0m     frame2\u001b[38;5;241m=\u001b[39mcv2\u001b[38;5;241m.\u001b[39mpyrUp(frames[frame_idx])\n\u001b[0;32m     13\u001b[0m     frame3\u001b[38;5;241m=\u001b[39mcv2\u001b[38;5;241m.\u001b[39mpyrUp(frame2)\n\u001b[1;32m---> 14\u001b[0m     frames[frame_idx]\u001b[38;5;241m=\u001b[39m\u001b[43mcv2\u001b[49m\u001b[38;5;241;43m.\u001b[39;49m\u001b[43mpyrUp\u001b[49m\u001b[43m(\u001b[49m\u001b[43mframe3\u001b[49m\u001b[43m)\u001b[49m\n\u001b[0;32m     16\u001b[0m \u001b[38;5;66;03m# draw rectangle roi for target objects, or use default objects initilization\u001b[39;00m\n\u001b[0;32m     17\u001b[0m \u001b[38;5;28;01mif\u001b[39;00m draw_bb:\n",
      "\u001b[1;31merror\u001b[0m: OpenCV(4.0.1) C:\\ci\\opencv-suite_1573470242804\\work\\modules\\core\\src\\alloc.cpp:55: error: (-4:Insufficient memory) Failed to allocate 398131200 bytes in function 'cv::OutOfMemoryError'\n"
     ]
    }
   ],
   "source": [
    "def objectTracking(rawVideo, draw_bb=False, play_realtime=False, save_to_file=False):\n",
    "    # initilize\n",
    "    df = pd.DataFrame()\n",
    "    df['time'] = ''\n",
    "    df['coordinate'] = ''\n",
    "    n_frame = 1700\n",
    "    frames = np.empty((n_frame,),dtype=np.ndarray)\n",
    "    frames_draw = np.empty((n_frame,),dtype=np.ndarray)\n",
    "    bboxs = np.empty((n_frame,),dtype=np.ndarray)\n",
    "    for frame_idx in range(n_frame):\n",
    "        _, frames[frame_idx] = rawVideo.read()\n",
    "        frame2=cv2.pyrUp(frames[frame_idx])\n",
    "        frame3=cv2.pyrUp(frame2)\n",
    "        frames[frame_idx]=cv2.pyrUp(frame3)\n",
    "\n",
    "    # draw rectangle roi for target objects, or use default objects initilization\n",
    "    if draw_bb:\n",
    "        n_object = int(input(\"Number of objects to track:\"))\n",
    "        bboxs[0] = np.empty((n_object,4,2), dtype=float)\n",
    "        for i in range(n_object):\n",
    "            cv2.namedWindow(\"Select Object %d\"%(i),cv2.WINDOW_NORMAL)\n",
    "            (xmin, ymin, boxw, boxh) = cv2.selectROI(\"Select Object %d\"%(i),frames[0])\n",
    "            cv2.destroyWindow(\"Select Object %d\"%(i))\n",
    "            bboxs[0][i,:,:] = np.array([[xmin,ymin],[xmin+boxw,ymin],[xmin,ymin+boxh],[xmin+boxw,ymin+boxh]]).astype(float)\n",
    "    else:\n",
    "        n_object = 1\n",
    "        bboxs[0] = np.array([[[291,187],[405,187],[291,267],[405,267]]]).astype(float)\n",
    "    \n",
    "    if save_to_file:\n",
    "        out = cv2.VideoWriter('output.avi',0,cv2.VideoWriter_fourcc('M','J','P','G'),20.0,(frames[i].shape[1],frames[i].shape[0]))\n",
    "    \n",
    "    # Start from the first frame, do optical flow for every two consecutive frames.\n",
    "    startXs,startYs = getFeatures(cv2.cvtColor(frames[0],cv2.COLOR_RGB2GRAY),bboxs[0],use_shi=False)\n",
    "    for i in range(1,n_frame):\n",
    "        print('Processing Frame',i)\n",
    "        newXs, newYs = estimateAllTranslation(startXs, startYs, frames[i-1], frames[i])\n",
    "        Xs, Ys ,bboxs[i] = applyGeometricTransformation(startXs, startYs, newXs, newYs, bboxs[i-1])\n",
    "        \n",
    "        # update coordinates\n",
    "        startXs = Xs\n",
    "        startYs = Ys\n",
    "\n",
    "        # update feature points as required\n",
    "        n_features_left = np.sum(Xs!=-1)\n",
    "        print('# of Features: %d'%n_features_left)\n",
    "        if n_features_left < 15:\n",
    "            print('Generate New Features')\n",
    "            startXs,startYs = getFeatures(cv2.cvtColor(frames[i],cv2.COLOR_RGB2GRAY),bboxs[i])\n",
    "\n",
    "        # draw bounding box and visualize feature point for each object\n",
    "        frames_draw[i] = frames[i].copy()\n",
    "        for j in range(n_object):\n",
    "            (xmin, ymin, boxw, boxh) = cv2.boundingRect(bboxs[i][j,:,:].astype(int))\n",
    "            row=[i*1/24, ymin]\n",
    "            df.loc[i-1]=row\n",
    "            print(xmin, ymin)\n",
    "            frames_draw[i] = cv2.rectangle(frames_draw[i], (xmin,ymin), (xmin+boxw,ymin+boxh), (255,0,0), 2)\n",
    "            for k in range(startXs.shape[0]):\n",
    "                frames_draw[i] = cv2.circle(frames_draw[i], (int(startXs[k,j]),int(startYs[k,j])),3,(0,0,255),thickness=2)\n",
    "        \n",
    "        # imshow if to play the result in real time\n",
    "        if play_realtime:\n",
    "            cv2.namedWindow('win',cv2.WINDOW_NORMAL)\n",
    "            cv2.imshow(\"win\",frames_draw[i])\n",
    "            cv2.waitKey(10)\n",
    "        if save_to_file:\n",
    "            out.write(frames_draw[i])\n",
    "    \n",
    "    if save_to_file:\n",
    "        out.release()\n",
    "\n",
    "    # loop the resulting video (for debugging purpose only)\n",
    "    # while 1:\n",
    "    #     for i in range(1,n_frame):\n",
    "    #         cv2.imshow(\"win\",frames_draw[i])\n",
    "    #         cv2.waitKey(50)\n",
    "    return df\n",
    "\n",
    "\n",
    "if __name__ == \"__main__\":\n",
    "    cap = cv2.VideoCapture(\"E:\\machine_vision\\Data/moving_target3.mp4\")\n",
    "    df = objectTracking(cap,draw_bb=True,play_realtime=True,save_to_file=True)\n",
    "    cap.release()"
   ]
  },
  {
   "cell_type": "code",
   "execution_count": null,
   "id": "05242982",
   "metadata": {},
   "outputs": [],
   "source": [
    "df"
   ]
  },
  {
   "cell_type": "code",
   "execution_count": null,
   "id": "69093c45",
   "metadata": {},
   "outputs": [],
   "source": []
  }
 ],
 "metadata": {
  "kernelspec": {
   "display_name": "Python [conda env:opencv]",
   "language": "python",
   "name": "conda-env-opencv-py"
  },
  "language_info": {
   "codemirror_mode": {
    "name": "ipython",
    "version": 3
   },
   "file_extension": ".py",
   "mimetype": "text/x-python",
   "name": "python",
   "nbconvert_exporter": "python",
   "pygments_lexer": "ipython3",
   "version": "3.8.15"
  }
 },
 "nbformat": 4,
 "nbformat_minor": 5
}
